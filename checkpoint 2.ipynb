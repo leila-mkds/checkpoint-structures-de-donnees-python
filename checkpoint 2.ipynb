{
 "cells": [
  {
   "cell_type": "code",
   "execution_count": 5,
   "id": "e12b6f85",
   "metadata": {},
   "outputs": [
    {
     "name": "stdout",
     "output_type": "stream",
     "text": [
      "java\n",
      "html\n",
      "['SQL', 'r', 'sas']\n",
      "8\n"
     ]
    }
   ],
   "source": [
    "#les listes:\n",
    "my_list=[\"python\",\"java\",\"SQL\",\"r\",\"sas\",\"c++\",\"php\",\"html\"]\n",
    "print(my_list[1])\n",
    "print(my_list[-1])\n",
    "print(my_list[2:5])\n",
    "print(len(my_list))\n"
   ]
  },
  {
   "cell_type": "code",
   "execution_count": 10,
   "id": "8bea480d",
   "metadata": {},
   "outputs": [
    {
     "name": "stdout",
     "output_type": "stream",
     "text": [
      "['python', 'java', 'SQL', 'r', 'sas', 'c++', 'php', 'html', 'matlab']\n",
      "['python', 'spark', 'java', 'SQL', 'r', 'sas', 'c++', 'php', 'html', 'matlab']\n",
      "['python', 'scala', 'java', 'SQL', 'r', 'sas', 'c++', 'php', 'html', 'matlab']\n",
      "['python', 'scala', 'SQL', 'r', 'sas', 'c++', 'php', 'html', 'matlab']\n",
      "['scala', 'SQL', 'r', 'sas', 'c++', 'php', 'html', 'matlab']\n"
     ]
    }
   ],
   "source": [
    "my_list=[\"python\",\"java\",\"SQL\",\"r\",\"sas\",\"c++\",\"php\",\"html\"]\n",
    "my_list.append(\"matlab\")\n",
    "print(my_list)\n",
    "\n",
    "my_list.insert(1,\"spark\")\n",
    "print(my_list)\n",
    "\n",
    "my_list[1]=\"scala\"\n",
    "print(my_list)\n",
    "\n",
    "my_list.remove(\"java\")\n",
    "print(my_list)\n",
    "\n",
    "del my_list[0]\n",
    "print(my_list)\n",
    "\n"
   ]
  },
  {
   "cell_type": "code",
   "execution_count": 19,
   "id": "7722cdf2",
   "metadata": {},
   "outputs": [
    {
     "name": "stdout",
     "output_type": "stream",
     "text": [
      "knowledge\n",
      "tool\n",
      "year\n",
      "Data science\n",
      "python\n",
      "2020\n",
      "('knowledge', 'Data science')\n",
      "('tool', 'python')\n",
      "('year', 2020)\n",
      "3\n",
      "{'knowledge': 'Data science', 'tool': 'python', 'year': 2020, 'learn': True}\n",
      "{'knowledge': 'Data science', 'tool': 'python', 'year': 2022, 'learn': True}\n",
      "{'knowledge': 'Data science', 'year': 2022, 'learn': True}\n"
     ]
    }
   ],
   "source": [
    "#dictionary:\n",
    "my_dictionary={\"knowledge\":\"Data science\",\"tool\":\"python\",\"year\":2020}\n",
    "for key in my_dictionary.keys():\n",
    "    print(key)#afficher les keys\n",
    "for value in my_dictionary.values():\n",
    "    print(value)#afficher les valeurs\n",
    "for item in my_dictionary.items():\n",
    "    print(item)#afficher les deux\n",
    "print(len(my_dictionary))#afficher le nombre d'elements\n",
    "my_dictionary[\"tool\"]#afficher la variable d une key...\n",
    "my_dictionary[\"learn\"]=True\n",
    "print(my_dictionary)#ajouter une key avec sa var \n",
    "my_dictionary[\"year\"]=2022\n",
    "print(my_dictionary)#changer la var de 2020 a 2022\n",
    "my_dictionary.pop(\"tool\")\n",
    "print(my_dictionary)#pour effacer un element\n",
    "del my_dictionary#pour effacer tout le dictionary\n",
    "\n"
   ]
  },
  {
   "cell_type": "code",
   "execution_count": 23,
   "id": "0e605fc3",
   "metadata": {},
   "outputs": [
    {
     "name": "stdout",
     "output_type": "stream",
     "text": [
      "{'java', 'python', 'R'}\n",
      "{'java', 'python', 'R', 'scalla'}\n",
      "{'java', 'python', 'scalla'}\n"
     ]
    }
   ],
   "source": [
    "#set:\n",
    "my_set={\"python\",\"java\",\"R\"}\n",
    "print(my_set)#afficher la list\n",
    "my_set.add(\"scalla\")\n",
    "print(my_set)#ajouter un element\n",
    "my_set.remove(\"R\")\n",
    "print(my_set)#effacer un element"
   ]
  },
  {
   "cell_type": "code",
   "execution_count": 26,
   "id": "0e94636e",
   "metadata": {},
   "outputs": [
    {
     "name": "stdout",
     "output_type": "stream",
     "text": [
      "java\n",
      "('a', 'b', 'c', 1, 2, 3)\n"
     ]
    }
   ],
   "source": [
    "#tuples:\n",
    "my_tuple=(\"python\",\"java\",\"R\")\n",
    "print(my_tuple[1])#pour afficher l element 1\n",
    "tuple1=(\"a\",\"b\",\"c\")\n",
    "tuple2=(1,2,3)\n",
    "tuple3=tuple1+tuple2\n",
    "print(tuple3)#additionner et afficher 1 et 2\n",
    "\n",
    " "
   ]
  },
  {
   "cell_type": "code",
   "execution_count": 27,
   "id": "70053a7c",
   "metadata": {},
   "outputs": [
    {
     "name": "stdout",
     "output_type": "stream",
     "text": [
      "36\n"
     ]
    }
   ],
   "source": [
    "#checkpoint:\n",
    "#q1:\n",
    "list=(2,3,6)\n",
    "m=1\n",
    "for i in list:\n",
    "    m=m*i\n",
    "print(m)\n",
    "    \n",
    "    \n",
    "\n"
   ]
  },
  {
   "cell_type": "code",
   "execution_count": 31,
   "id": "742f34d8",
   "metadata": {},
   "outputs": [
    {
     "name": "stdout",
     "output_type": "stream",
     "text": [
      "Sorted:\n",
      "[(2, 1), (1, 2), (2, 3), (2, 5)]\n",
      "[(1, 2), (2, 1), (2, 3), (2, 5)]\n"
     ]
    }
   ],
   "source": [
    "#q2:\n",
    "#methode01:\n",
    "def last(n): \n",
    "    return n[-1]   \n",
    "   \n",
    "def sort(tuples): \n",
    "    return sorted(tuples, key=last) \n",
    "   \n",
    "a=[(2, 5), (1, 2), (2, 3),(2, 1)] \n",
    "print(\"Sorted:\") \n",
    "print(sort(a))\n",
    "#methode02:\n",
    "list=[(2, 5), (1, 2), (2, 3),(2, 1)]\n",
    "list.sort()\n",
    "print(list)"
   ]
  },
  {
   "cell_type": "code",
   "execution_count": 8,
   "id": "b2076882",
   "metadata": {},
   "outputs": [
    {
     "name": "stdout",
     "output_type": "stream",
     "text": [
      "{'a': 400, 'b': 400, 'c': 300, 'd': 400}\n"
     ]
    }
   ],
   "source": [
    "#q3:\n",
    "d1={'a':100,'b':200,'c':300}\n",
    "d2={'a':300,'b':200,'d':400}\n",
    "d3={}\n",
    "for key in d1.keys():\n",
    "    if key in d2.keys():\n",
    "            d3[key]=d1[key]+d2[key]\n",
    "    elif key not in d2.keys():\n",
    "            d3[key]=d1[key]\n",
    "for key2 in d2.keys():\n",
    "        if key2 not in d1.keys():\n",
    "            d3[key2]=d2[key2]\n",
    "print(d3)\n",
    "         \n",
    "\n",
    "\n",
    "        \n",
    "    "
   ]
  },
  {
   "cell_type": "code",
   "execution_count": 11,
   "id": "58dbe784",
   "metadata": {},
   "outputs": [
    {
     "name": "stdout",
     "output_type": "stream",
     "text": [
      "entrer la valeur de n:8\n",
      "{1: 1, 2: 4, 3: 9, 4: 16, 5: 25, 6: 36, 7: 49, 8: 64}\n"
     ]
    }
   ],
   "source": [
    "#q4:\n",
    "n=input(\"entrer la valeur de n:\")\n",
    "n=int(n)\n",
    "my_dictionary={}\n",
    "p=1\n",
    "i=1\n",
    "while i!=n+1:\n",
    "    p=i**2\n",
    "    my_dictionary[i]=p\n",
    "    i=i+1\n",
    "print(my_dictionary)"
   ]
  },
  {
   "cell_type": "code",
   "execution_count": 13,
   "id": "afcef166",
   "metadata": {},
   "outputs": [
    {
     "name": "stdout",
     "output_type": "stream",
     "text": [
      "[('item3', '24.5'), ('item2', '15.10'), ('item1', '12.20')]\n"
     ]
    }
   ],
   "source": [
    "#q5:\n",
    "list=[('item1','12.20'),('item2','15.10'),('item3','24.5')]\n",
    "list.sort(reverse=True)\n",
    "print(list)"
   ]
  },
  {
   "cell_type": "code",
   "execution_count": null,
   "id": "08258129",
   "metadata": {},
   "outputs": [],
   "source": []
  }
 ],
 "metadata": {
  "kernelspec": {
   "display_name": "Python 3 (ipykernel)",
   "language": "python",
   "name": "python3"
  },
  "language_info": {
   "codemirror_mode": {
    "name": "ipython",
    "version": 3
   },
   "file_extension": ".py",
   "mimetype": "text/x-python",
   "name": "python",
   "nbconvert_exporter": "python",
   "pygments_lexer": "ipython3",
   "version": "3.9.12"
  }
 },
 "nbformat": 4,
 "nbformat_minor": 5
}
