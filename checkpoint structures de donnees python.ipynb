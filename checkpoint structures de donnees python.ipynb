{
 "cells": [
  {
   "cell_type": "code",
   "execution_count": 1,
   "id": "5cae98aa",
   "metadata": {},
   "outputs": [
    {
     "name": "stdout",
     "output_type": "stream",
     "text": [
      "36\n"
     ]
    }
   ],
   "source": [
    "#Question 1:\n",
    "liste=[2,6,3]\n",
    "mul=1 #affectation a la variable mul l'element neutre de la multiplication\n",
    "for i in liste:\n",
    "    mul=mul*i\n",
    "print(mul)\n"
   ]
  },
  {
   "cell_type": "code",
   "execution_count": 2,
   "id": "b317c24c",
   "metadata": {},
   "outputs": [
    {
     "name": "stdout",
     "output_type": "stream",
     "text": [
      "[(2, 1), (1, 2), (2, 3), (4, 4), (2, 5)]\n"
     ]
    }
   ],
   "source": [
    "#Question 2:\n",
    "#Définir une fonction qui renvoie le dernier élément de chaque tuple dans la liste des tuples\n",
    "def last(n):\n",
    "    return n[-1] \n",
    "#Définir une autre fonction avec la fonction précédente comme clé et triez la liste\n",
    "#sachant que la fonction sort nous permet d'ordonnee les elements dans un ordre croissant   \n",
    "def sort(tuples):\n",
    "    return sorted(tuples, key=last)\n",
    "a=[(2,5),(1,2),(4,4),(2,3),(2,1)]\n",
    "print(sort(a))"
   ]
  },
  {
   "cell_type": "code",
   "execution_count": 3,
   "id": "f355681d",
   "metadata": {},
   "outputs": [
    {
     "name": "stdout",
     "output_type": "stream",
     "text": [
      "{'a': 400, 'b': 400, 'c': 300, 'd': 400}\n"
     ]
    }
   ],
   "source": [
    "#Question 3:\n",
    "d1 = {'a' : 100, 'b' : 200, 'c' : 300}\n",
    "d2 = {'a' : 300, 'b' : 200, 'd' : 400}\n",
    "d3={}\n",
    "for key1 in d1.keys():\n",
    "  if key1 in d2.keys():\n",
    "    d3[key1]=d1[key1]+d2[key1] \n",
    "  elif key1 not in d2.keys():\n",
    "    d3[key1]=d1[key1]\n",
    "for key2 in d2.keys():\n",
    "  if key2 not in d1.keys():\n",
    "    d3[key2]=d2[key2]\n",
    "print(d3)\n"
   ]
  },
  {
   "cell_type": "code",
   "execution_count": 4,
   "id": "e36a33da",
   "metadata": {},
   "outputs": [
    {
     "name": "stdout",
     "output_type": "stream",
     "text": [
      "Entrez le dernier element de votre liste de clés:8\n",
      "{1: 1, 2: 4, 3: 9, 4: 16, 5: 25, 6: 36, 7: 49, 8: 64}\n"
     ]
    }
   ],
   "source": [
    "#Question 4:\n",
    "dict={}\n",
    "n=int(input(\"Entrez le dernier element de votre liste de clés:\"))\n",
    "for c in range(1,n+1): #Meme en mettant 1 au debut, la derniere valeur n'est toujours pas prise en compte \n",
    "#c'est pour cela qu'on met n+1\n",
    "  dict[c]=c**2\n",
    "print(dict)"
   ]
  },
  {
   "cell_type": "code",
   "execution_count": 5,
   "id": "c8667b56",
   "metadata": {},
   "outputs": [
    {
     "name": "stdout",
     "output_type": "stream",
     "text": [
      "[('item3', '24.5'), ('item2', '15.10'), ('item1', '12.20')]\n"
     ]
    }
   ],
   "source": [
    "#Question 5:\n",
    "List=[(\"item1\",\"12.20\"),(\"item2\",\"15.10\"),(\"item3\",\"24.5\")]\n",
    "List.sort(reverse=True) #Pour inverser l'ordre des elements de la fin au debut\n",
    "print(List)"
   ]
  },
  {
   "cell_type": "code",
   "execution_count": 7,
   "id": "dd5a902c",
   "metadata": {},
   "outputs": [
    {
     "name": "stdout",
     "output_type": "stream",
     "text": [
      "{0, 1, 2, 3, 4}\n"
     ]
    }
   ],
   "source": [
    "#Question 6:\n",
    "#creation d'un ensemble\n",
    "MySet={0,1,2,3,4}\n",
    "print(MySet)"
   ]
  },
  {
   "cell_type": "code",
   "execution_count": 8,
   "id": "e6ece2fa",
   "metadata": {},
   "outputs": [
    {
     "name": "stdout",
     "output_type": "stream",
     "text": [
      "{0, 1, 2, 3, 4, 'python'}\n"
     ]
    }
   ],
   "source": [
    "MySet={0,1,2,3,4}\n",
    "#ajouter un article\n",
    "MySet.add(\"python\")\n",
    "print(MySet)"
   ]
  },
  {
   "cell_type": "code",
   "execution_count": 9,
   "id": "51647afb",
   "metadata": {},
   "outputs": [
    {
     "name": "stdout",
     "output_type": "stream",
     "text": [
      "{0, 1, 2, 3, 4}\n"
     ]
    }
   ],
   "source": [
    "MySet={0,1,2,3,4,\"python\"}\n",
    "#supprimer un element \n",
    "MySet.remove(\"python\")\n",
    "print(MySet)"
   ]
  },
  {
   "cell_type": "code",
   "execution_count": 10,
   "id": "e60b9790",
   "metadata": {},
   "outputs": [],
   "source": [
    "MySet={0,1,2,3,4}\n",
    "#afin de supprimer tout l'ensemble\n",
    "del MySet"
   ]
  },
  {
   "cell_type": "code",
   "execution_count": null,
   "id": "c1fb28ae",
   "metadata": {},
   "outputs": [],
   "source": []
  }
 ],
 "metadata": {
  "kernelspec": {
   "display_name": "Python 3 (ipykernel)",
   "language": "python",
   "name": "python3"
  },
  "language_info": {
   "codemirror_mode": {
    "name": "ipython",
    "version": 3
   },
   "file_extension": ".py",
   "mimetype": "text/x-python",
   "name": "python",
   "nbconvert_exporter": "python",
   "pygments_lexer": "ipython3",
   "version": "3.9.12"
  }
 },
 "nbformat": 4,
 "nbformat_minor": 5
}
